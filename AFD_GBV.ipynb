{
  "nbformat": 4,
  "nbformat_minor": 0,
  "metadata": {
    "colab": {
      "name": "AFD-GBV.ipynb",
      "provenance": [],
      "collapsed_sections": []
    },
    "kernelspec": {
      "name": "python3",
      "display_name": "Python 3"
    },
    "language_info": {
      "name": "python"
    }
  },
  "cells": [
    {
      "cell_type": "markdown",
      "metadata": {
        "id": "-GVTmKXA9qoD"
      },
      "source": [
        "## **Gender Based Violence Data Collection Notebook**"
      ]
    },
    {
      "cell_type": "code",
      "metadata": {
        "id": "NDIo7TmhdVos",
        "colab": {
          "base_uri": "https://localhost:8080/"
        },
        "outputId": "9974f79d-3939-401f-a876-a91e4af45a85"
      },
      "source": [
        "# installing packages that will help me collect data from twitter.com\n",
        "\n",
        "!pip install tweepy\n",
        "!pip install unidecode"
      ],
      "execution_count": 1,
      "outputs": [
        {
          "output_type": "stream",
          "text": [
            "Requirement already satisfied: tweepy in /usr/local/lib/python3.7/dist-packages (3.10.0)\n",
            "Requirement already satisfied: requests-oauthlib>=0.7.0 in /usr/local/lib/python3.7/dist-packages (from tweepy) (1.3.0)\n",
            "Requirement already satisfied: six>=1.10.0 in /usr/local/lib/python3.7/dist-packages (from tweepy) (1.15.0)\n",
            "Requirement already satisfied: requests[socks]>=2.11.1 in /usr/local/lib/python3.7/dist-packages (from tweepy) (2.23.0)\n",
            "Requirement already satisfied: oauthlib>=3.0.0 in /usr/local/lib/python3.7/dist-packages (from requests-oauthlib>=0.7.0->tweepy) (3.1.0)\n",
            "Requirement already satisfied: certifi>=2017.4.17 in /usr/local/lib/python3.7/dist-packages (from requests[socks]>=2.11.1->tweepy) (2020.12.5)\n",
            "Requirement already satisfied: idna<3,>=2.5 in /usr/local/lib/python3.7/dist-packages (from requests[socks]>=2.11.1->tweepy) (2.10)\n",
            "Requirement already satisfied: urllib3!=1.25.0,!=1.25.1,<1.26,>=1.21.1 in /usr/local/lib/python3.7/dist-packages (from requests[socks]>=2.11.1->tweepy) (1.24.3)\n",
            "Requirement already satisfied: chardet<4,>=3.0.2 in /usr/local/lib/python3.7/dist-packages (from requests[socks]>=2.11.1->tweepy) (3.0.4)\n",
            "Requirement already satisfied: PySocks!=1.5.7,>=1.5.6; extra == \"socks\" in /usr/local/lib/python3.7/dist-packages (from requests[socks]>=2.11.1->tweepy) (1.7.1)\n",
            "Requirement already satisfied: unidecode in /usr/local/lib/python3.7/dist-packages (1.2.0)\n"
          ],
          "name": "stdout"
        }
      ]
    },
    {
      "cell_type": "code",
      "metadata": {
        "id": "RMhMbwEwghHa"
      },
      "source": [
        "# importing needed python libraries\n",
        "\n",
        "import tweepy\n",
        "from tweepy import OAuthHandler\n",
        "from tweepy.streaming import StreamListener\n",
        "import json\n",
        "from unidecode import unidecode\n",
        "import time\n",
        "import datetime\n",
        "from tqdm import tqdm\n",
        "import pandas as pd\n",
        "import numpy as np"
      ],
      "execution_count": 2,
      "outputs": []
    },
    {
      "cell_type": "code",
      "metadata": {
        "id": "-JSfhUD2gszI"
      },
      "source": [
        "# twitter authentication\n",
        "\n",
        "consumer_key = 'consumer_key'\n",
        "consumer_secret = 'consumer_secret'\n",
        "access_token = 'access_token'\n",
        "access_secret = 'access_secret'\n",
        "\n",
        "# connecting to twitter using secret key and access token\n",
        "\n",
        "auth = tweepy.OAuthHandler(consumer_key, consumer_secret )\n",
        "auth.set_access_token(access_token, access_secret)\n",
        "api = tweepy.API(auth)"
      ],
      "execution_count": 3,
      "outputs": []
    },
    {
      "cell_type": "code",
      "metadata": {
        "id": "eiyx4WqYgxpV"
      },
      "source": [
        "# fuction that will accept our search query plus the limit to the query being generated\n",
        "\n",
        "# This function will search a query provided from twitter and, retun a list of all tweets that have that query.\n",
        "\n",
        "def tweetSearch(query, limit):\n",
        "    tweets = []\n",
        "    \n",
        "# Iterate through Twitter using Tweepy to find our query with our defined limit\n",
        "\n",
        "    for page in tweepy.Cursor(api.search, q=query, count=limit, tweet_mode=\"extended\", wait_on_rate_limit=True).pages(limit):\n",
        "        for tweet in page:\n",
        "            tweets.append(tweet)\n",
        "    return tweets\n"
      ],
      "execution_count": 4,
      "outputs": []
    },
    {
      "cell_type": "code",
      "metadata": {
        "id": "1Ob_iUBWg3hm"
      },
      "source": [
        "# create a function to save tweets into the dataframe\n",
        "# This function will receive pages of tweets, likes and retweets concerning the query and save them into a pandas data frame.\n",
        "# Basically, this function will return a pandas data frame that contains data from twitter.\n",
        "\n",
        "def tweets_to_df(tweets):\n",
        "    \n",
        "    df = pd.DataFrame(data=[tweet.full_text.encode('utf-8') for tweet in tweets], columns=[\"Tweets\"])\n",
        "    df[\"id\"] = np.array([tweet.id for tweet in tweets])\n",
        "    df[\"lens\"] = np.array([len(tweet.full_text) for tweet in tweets])\n",
        "    df[\"date\"] = np.array([tweet.created_at for tweet in tweets])\n",
        "    df[\"place\"] = np.array([tweet.place for tweet in tweets])\n",
        "    df[\"coordinates\"] = np.array([tweet.coordinates for tweet in tweets])\n",
        "    df[\"lang\"] = np.array([tweet.lang for tweet in tweets])\n",
        "    df[\"source\"] = np.array([tweet.source for tweet in tweets])\n",
        "    df[\"likes\"] = np.array([tweet.favorite_count for tweet in tweets])\n",
        "    df[\"retweets\"] = np.array([tweet.retweet_count for tweet in tweets])\n",
        "    return df"
      ],
      "execution_count": 5,
      "outputs": []
    },
    {
      "cell_type": "code",
      "metadata": {
        "id": "-TerecnZhJlI"
      },
      "source": [
        "# list of hastags\n",
        "hashtags = ['GBV','#sexism', '#rape']"
      ],
      "execution_count": 6,
      "outputs": []
    },
    {
      "cell_type": "code",
      "metadata": {
        "colab": {
          "base_uri": "https://localhost:8080/"
        },
        "id": "9Y3voJmNhgJU",
        "outputId": "b4bb715e-faa8-4ce4-a2e6-99fa566d60a1"
      },
      "source": [
        "#The following 'for loop' will collect tweets that have the hashtags mentioned in the list and save the tweets in a csv file\n",
        "\n",
        "total_tweets = 0\n",
        "\n",
        "for n in tqdm(hashtags):\n",
        "# first we fetch all tweets that have specific hashtag\n",
        "    hash_tweets = tweetSearch(query=n,limit=7000)\n",
        "    total_tweets += int(len(hash_tweets))\n",
        "    \n",
        "# second we convert our tweets into datarame\n",
        "    df = tweets_to_df(hash_tweets)\n",
        "    \n",
        "#third we save the dataframe into csv file\n",
        "df.to_csv(\"tweets.csv\".format(n))"
      ],
      "execution_count": 7,
      "outputs": [
        {
          "output_type": "stream",
          "text": [
            "100%|██████████| 3/3 [24:59<00:00, 499.71s/it]\n"
          ],
          "name": "stderr"
        }
      ]
    },
    {
      "cell_type": "code",
      "metadata": {
        "id": "DFayDVk0h8HH",
        "colab": {
          "base_uri": "https://localhost:8080/",
          "height": 419
        },
        "outputId": "924d3619-6626-4462-87fb-db6e5a349d58"
      },
      "source": [
        "df"
      ],
      "execution_count": 8,
      "outputs": [
        {
          "output_type": "execute_result",
          "data": {
            "text/html": [
              "<div>\n",
              "<style scoped>\n",
              "    .dataframe tbody tr th:only-of-type {\n",
              "        vertical-align: middle;\n",
              "    }\n",
              "\n",
              "    .dataframe tbody tr th {\n",
              "        vertical-align: top;\n",
              "    }\n",
              "\n",
              "    .dataframe thead th {\n",
              "        text-align: right;\n",
              "    }\n",
              "</style>\n",
              "<table border=\"1\" class=\"dataframe\">\n",
              "  <thead>\n",
              "    <tr style=\"text-align: right;\">\n",
              "      <th></th>\n",
              "      <th>Tweets</th>\n",
              "      <th>id</th>\n",
              "      <th>lens</th>\n",
              "      <th>date</th>\n",
              "      <th>place</th>\n",
              "      <th>coordinates</th>\n",
              "      <th>lang</th>\n",
              "      <th>source</th>\n",
              "      <th>likes</th>\n",
              "      <th>retweets</th>\n",
              "    </tr>\n",
              "  </thead>\n",
              "  <tbody>\n",
              "    <tr>\n",
              "      <th>0</th>\n",
              "      <td>b'RT @maxandrade_: \"Contribuyente X\". #Rap\\xc3...</td>\n",
              "      <td>1392126557636857859</td>\n",
              "      <td>65</td>\n",
              "      <td>2021-05-11 14:36:50</td>\n",
              "      <td>None</td>\n",
              "      <td>None</td>\n",
              "      <td>es</td>\n",
              "      <td>Twitter for Android</td>\n",
              "      <td>0</td>\n",
              "      <td>26</td>\n",
              "    </tr>\n",
              "    <tr>\n",
              "      <th>1</th>\n",
              "      <td>b'RT @PreventBullying: #Rape WARNING. I receiv...</td>\n",
              "      <td>1392126021755879433</td>\n",
              "      <td>144</td>\n",
              "      <td>2021-05-11 14:34:42</td>\n",
              "      <td>None</td>\n",
              "      <td>None</td>\n",
              "      <td>en</td>\n",
              "      <td>Twitter for iPad</td>\n",
              "      <td>0</td>\n",
              "      <td>0</td>\n",
              "    </tr>\n",
              "    <tr>\n",
              "      <th>2</th>\n",
              "      <td>b\"OAP Toolz blasts actor Yomi Fabiyi, over pro...</td>\n",
              "      <td>1392125958740656130</td>\n",
              "      <td>221</td>\n",
              "      <td>2021-05-11 14:34:27</td>\n",
              "      <td>None</td>\n",
              "      <td>None</td>\n",
              "      <td>en</td>\n",
              "      <td>Twitter for Android</td>\n",
              "      <td>0</td>\n",
              "      <td>0</td>\n",
              "    </tr>\n",
              "    <tr>\n",
              "      <th>3</th>\n",
              "      <td>b'RT @MargaretKaine: Book 1 Ring of Clay #Pott...</td>\n",
              "      <td>1392125926817902592</td>\n",
              "      <td>140</td>\n",
              "      <td>2021-05-11 14:34:20</td>\n",
              "      <td>None</td>\n",
              "      <td>None</td>\n",
              "      <td>en</td>\n",
              "      <td>Twitter for Android</td>\n",
              "      <td>0</td>\n",
              "      <td>18</td>\n",
              "    </tr>\n",
              "    <tr>\n",
              "      <th>4</th>\n",
              "      <td>b'RT @maxandrade_: \"Contribuyente X\". #Rap\\xc3...</td>\n",
              "      <td>1392125558486708227</td>\n",
              "      <td>65</td>\n",
              "      <td>2021-05-11 14:32:52</td>\n",
              "      <td>None</td>\n",
              "      <td>None</td>\n",
              "      <td>es</td>\n",
              "      <td>Twitter for iPad</td>\n",
              "      <td>0</td>\n",
              "      <td>26</td>\n",
              "    </tr>\n",
              "    <tr>\n",
              "      <th>...</th>\n",
              "      <td>...</td>\n",
              "      <td>...</td>\n",
              "      <td>...</td>\n",
              "      <td>...</td>\n",
              "      <td>...</td>\n",
              "      <td>...</td>\n",
              "      <td>...</td>\n",
              "      <td>...</td>\n",
              "      <td>...</td>\n",
              "      <td>...</td>\n",
              "    </tr>\n",
              "    <tr>\n",
              "      <th>7108</th>\n",
              "      <td>b\"RT @liberte_ny: \\xf0\\x9f\\x8e\\xafNot surprisi...</td>\n",
              "      <td>1389335561958313985</td>\n",
              "      <td>140</td>\n",
              "      <td>2021-05-03 21:46:25</td>\n",
              "      <td>None</td>\n",
              "      <td>None</td>\n",
              "      <td>en</td>\n",
              "      <td>Twitter for iPhone</td>\n",
              "      <td>0</td>\n",
              "      <td>5</td>\n",
              "    </tr>\n",
              "    <tr>\n",
              "      <th>7109</th>\n",
              "      <td>b'RT @ZenebuAbera: #Rape is being used as a we...</td>\n",
              "      <td>1389334511880638467</td>\n",
              "      <td>140</td>\n",
              "      <td>2021-05-03 21:42:14</td>\n",
              "      <td>None</td>\n",
              "      <td>None</td>\n",
              "      <td>en</td>\n",
              "      <td>Twitter for Android</td>\n",
              "      <td>0</td>\n",
              "      <td>2</td>\n",
              "    </tr>\n",
              "    <tr>\n",
              "      <th>7110</th>\n",
              "      <td>b'RT @ZenebuAbera: #Rape is being used as a we...</td>\n",
              "      <td>1389333793455157252</td>\n",
              "      <td>140</td>\n",
              "      <td>2021-05-03 21:39:23</td>\n",
              "      <td>None</td>\n",
              "      <td>None</td>\n",
              "      <td>en</td>\n",
              "      <td>Twitter for iPhone</td>\n",
              "      <td>0</td>\n",
              "      <td>2</td>\n",
              "    </tr>\n",
              "    <tr>\n",
              "      <th>7111</th>\n",
              "      <td>b'RT @JumbuTweeple: @SitaramYechury Respected ...</td>\n",
              "      <td>1389333373856882689</td>\n",
              "      <td>144</td>\n",
              "      <td>2021-05-03 21:37:43</td>\n",
              "      <td>None</td>\n",
              "      <td>None</td>\n",
              "      <td>en</td>\n",
              "      <td>Twitter Web App</td>\n",
              "      <td>0</td>\n",
              "      <td>7</td>\n",
              "    </tr>\n",
              "    <tr>\n",
              "      <th>7112</th>\n",
              "      <td>b\"#MonaLisa's account of #rape is one of hundr...</td>\n",
              "      <td>1389332980901027844</td>\n",
              "      <td>275</td>\n",
              "      <td>2021-05-03 21:36:09</td>\n",
              "      <td>None</td>\n",
              "      <td>None</td>\n",
              "      <td>en</td>\n",
              "      <td>Twitter for Android</td>\n",
              "      <td>1</td>\n",
              "      <td>1</td>\n",
              "    </tr>\n",
              "  </tbody>\n",
              "</table>\n",
              "<p>7113 rows × 10 columns</p>\n",
              "</div>"
            ],
            "text/plain": [
              "                                                 Tweets  ...  retweets\n",
              "0     b'RT @maxandrade_: \"Contribuyente X\". #Rap\\xc3...  ...        26\n",
              "1     b'RT @PreventBullying: #Rape WARNING. I receiv...  ...         0\n",
              "2     b\"OAP Toolz blasts actor Yomi Fabiyi, over pro...  ...         0\n",
              "3     b'RT @MargaretKaine: Book 1 Ring of Clay #Pott...  ...        18\n",
              "4     b'RT @maxandrade_: \"Contribuyente X\". #Rap\\xc3...  ...        26\n",
              "...                                                 ...  ...       ...\n",
              "7108  b\"RT @liberte_ny: \\xf0\\x9f\\x8e\\xafNot surprisi...  ...         5\n",
              "7109  b'RT @ZenebuAbera: #Rape is being used as a we...  ...         2\n",
              "7110  b'RT @ZenebuAbera: #Rape is being used as a we...  ...         2\n",
              "7111  b'RT @JumbuTweeple: @SitaramYechury Respected ...  ...         7\n",
              "7112  b\"#MonaLisa's account of #rape is one of hundr...  ...         1\n",
              "\n",
              "[7113 rows x 10 columns]"
            ]
          },
          "metadata": {
            "tags": []
          },
          "execution_count": 8
        }
      ]
    },
    {
      "cell_type": "code",
      "metadata": {
        "id": "wjMPxPZ5iXEf"
      },
      "source": [
        ""
      ],
      "execution_count": null,
      "outputs": []
    }
  ]
}